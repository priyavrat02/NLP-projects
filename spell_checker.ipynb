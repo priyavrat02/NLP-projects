{
 "cells": [
  {
   "cell_type": "code",
   "execution_count": 1,
   "id": "c5f4b851",
   "metadata": {},
   "outputs": [
    {
     "name": "stdout",
     "output_type": "stream",
     "text": [
      "Defaulting to user installation because normal site-packages is not writeable\n",
      "Requirement already satisfied: textblob in c:\\users\\kiit\\appdata\\roaming\\python\\python39\\site-packages (0.17.1)\n",
      "Requirement already satisfied: nltk>=3.1 in c:\\anaconda\\lib\\site-packages (from textblob) (3.7)\n",
      "Requirement already satisfied: tqdm in c:\\anaconda\\lib\\site-packages (from nltk>=3.1->textblob) (4.64.0)\n",
      "Requirement already satisfied: click in c:\\anaconda\\lib\\site-packages (from nltk>=3.1->textblob) (8.0.4)\n",
      "Requirement already satisfied: regex>=2021.8.3 in c:\\anaconda\\lib\\site-packages (from nltk>=3.1->textblob) (2022.3.15)\n",
      "Requirement already satisfied: joblib in c:\\anaconda\\lib\\site-packages (from nltk>=3.1->textblob) (1.1.0)\n",
      "Requirement already satisfied: colorama in c:\\anaconda\\lib\\site-packages (from click->nltk>=3.1->textblob) (0.4.4)\n",
      "Note: you may need to restart the kernel to use updated packages.\n"
     ]
    }
   ],
   "source": [
    "%pip install textblob"
   ]
  },
  {
   "cell_type": "code",
   "execution_count": 2,
   "id": "5b990854",
   "metadata": {},
   "outputs": [],
   "source": [
    "import textblob"
   ]
  },
  {
   "cell_type": "code",
   "execution_count": 3,
   "id": "5089c0ef",
   "metadata": {},
   "outputs": [],
   "source": [
    "from textblob import TextBlob"
   ]
  },
  {
   "cell_type": "code",
   "execution_count": 4,
   "id": "ecb58573",
   "metadata": {},
   "outputs": [],
   "source": [
    "tb = TextBlob(\" I want to paly fotball \")"
   ]
  },
  {
   "cell_type": "code",
   "execution_count": 5,
   "id": "fa137618",
   "metadata": {},
   "outputs": [
    {
     "data": {
      "text/plain": [
       "TextBlob(\" I want to pale football \")"
      ]
     },
     "execution_count": 5,
     "metadata": {},
     "output_type": "execute_result"
    }
   ],
   "source": [
    "tb.correct()"
   ]
  },
  {
   "cell_type": "code",
   "execution_count": 6,
   "id": "aa3d18f2",
   "metadata": {},
   "outputs": [
    {
     "name": "stdout",
     "output_type": "stream",
     "text": [
      "Defaulting to user installation because normal site-packages is not writeable\n",
      "Requirement already satisfied: spello in c:\\users\\kiit\\appdata\\roaming\\python\\python39\\site-packages (1.3.0)\n",
      "Requirement already satisfied: nltk<4,>=3.4.5 in c:\\anaconda\\lib\\site-packages (from spello) (3.7)\n",
      "Requirement already satisfied: click in c:\\anaconda\\lib\\site-packages (from nltk<4,>=3.4.5->spello) (8.0.4)\n",
      "Requirement already satisfied: regex>=2021.8.3 in c:\\anaconda\\lib\\site-packages (from nltk<4,>=3.4.5->spello) (2022.3.15)\n",
      "Requirement already satisfied: joblib in c:\\anaconda\\lib\\site-packages (from nltk<4,>=3.4.5->spello) (1.1.0)\n",
      "Requirement already satisfied: tqdm in c:\\anaconda\\lib\\site-packages (from nltk<4,>=3.4.5->spello) (4.64.0)\n",
      "Requirement already satisfied: colorama in c:\\anaconda\\lib\\site-packages (from click->nltk<4,>=3.4.5->spello) (0.4.4)\n"
     ]
    }
   ],
   "source": [
    "!pip install spello"
   ]
  },
  {
   "cell_type": "code",
   "execution_count": 7,
   "id": "d0725630",
   "metadata": {},
   "outputs": [],
   "source": [
    "from spello.model import SpellCorrectionModel"
   ]
  },
  {
   "cell_type": "code",
   "execution_count": 8,
   "id": "902eabb4",
   "metadata": {},
   "outputs": [],
   "source": [
    "sp = SpellCorrectionModel(language = \"en\")"
   ]
  },
  {
   "cell_type": "code",
   "execution_count": 9,
   "id": "5697cc52",
   "metadata": {},
   "outputs": [],
   "source": [
    "with open(\"sample_data.txt\", \"r\") as file:\n",
    "    data = file.readlines()\n"
   ]
  },
  {
   "cell_type": "code",
   "execution_count": 10,
   "id": "d54a0cd7",
   "metadata": {},
   "outputs": [],
   "source": [
    "data = [i.strip() for i in data]                "
   ]
  },
  {
   "cell_type": "code",
   "execution_count": 11,
   "id": "db96c9a9",
   "metadata": {},
   "outputs": [
    {
     "data": {
      "text/plain": [
       "[\"['The birds are flying\\\\n'\",\n",
       " \"'I want to play football\\\\n'\",\n",
       " \"'This is Lamborghini aventador with a V12 engine\\\\n'\",\n",
       " \"'He likes chocolates and vanilla deserts\\\\n'\",\n",
       " \"'The rainbow in sky is beautiful\\\\n'\",\n",
       " \"'Some of the people were not present during the meeting\\\\n'\",\n",
       " \"'Mathura is the birthplace of lord Krishna\\\\n']\",\n",
       " \"'there was an avalanche in the mount everest\\\\n']\"]"
      ]
     },
     "execution_count": 11,
     "metadata": {},
     "output_type": "execute_result"
    }
   ],
   "source": [
    " data"
   ]
  },
  {
   "cell_type": "code",
   "execution_count": 12,
   "id": "2b9623e8",
   "metadata": {},
   "outputs": [
    {
     "name": "stdout",
     "output_type": "stream",
     "text": [
      "Spello training started..\n",
      "Context model training started ...\n",
      "Symspell training started ...\n",
      "Phoneme training started ...\n",
      "Spello training completed successfully ...\n"
     ]
    }
   ],
   "source": [
    "sp.train(data)"
   ]
  },
  {
   "cell_type": "code",
   "execution_count": 13,
   "id": "5f914312",
   "metadata": {},
   "outputs": [
    {
     "data": {
      "text/plain": [
       "{'original_text': 'i want to paly fotball',\n",
       " 'spell_corrected_text': 'i want to play football',\n",
       " 'correction_dict': {'paly': 'play', 'fotball': 'football'}}"
      ]
     },
     "execution_count": 13,
     "metadata": {},
     "output_type": "execute_result"
    }
   ],
   "source": [
    " sp.spell_correct(\"i want to paly fotball\")"
   ]
  },
  {
   "cell_type": "code",
   "execution_count": 14,
   "id": "9ad564b0",
   "metadata": {},
   "outputs": [
    {
     "data": {
      "text/plain": [
       "{'original_text': 'beutiful',\n",
       " 'spell_corrected_text': 'beautiful',\n",
       " 'correction_dict': {'beutiful': 'beautiful'}}"
      ]
     },
     "execution_count": 14,
     "metadata": {},
     "output_type": "execute_result"
    }
   ],
   "source": [
    " sp.spell_correct(\"beutiful\")"
   ]
  },
  {
   "cell_type": "code",
   "execution_count": 15,
   "id": "d531914b",
   "metadata": {},
   "outputs": [
    {
     "data": {
      "text/plain": [
       "{'original_text': 'avalcnhe',\n",
       " 'spell_corrected_text': 'avalanche',\n",
       " 'correction_dict': {'avalcnhe': 'avalanche'}}"
      ]
     },
     "execution_count": 15,
     "metadata": {},
     "output_type": "execute_result"
    }
   ],
   "source": [
    " sp.spell_correct(\"avalcnhe\")"
   ]
  },
  {
   "cell_type": "code",
   "execution_count": 16,
   "id": "4527a482",
   "metadata": {},
   "outputs": [
    {
     "ename": "NameError",
     "evalue": "name 'p' is not defined",
     "output_type": "error",
     "traceback": [
      "\u001b[1;31m---------------------------------------------------------------------------\u001b[0m",
      "\u001b[1;31mNameError\u001b[0m                                 Traceback (most recent call last)",
      "Input \u001b[1;32mIn [16]\u001b[0m, in \u001b[0;36m<cell line: 1>\u001b[1;34m()\u001b[0m\n\u001b[1;32m----> 1\u001b[0m \u001b[43mp\u001b[49m\u001b[38;5;241m.\u001b[39mspell_correct(\u001b[38;5;124m\"\u001b[39m\u001b[38;5;124mkrisna\u001b[39m\u001b[38;5;124m\"\u001b[39m)\n",
      "\u001b[1;31mNameError\u001b[0m: name 'p' is not defined"
     ]
    }
   ],
   "source": [
    "p.spell_correct(\"krisna\")"
   ]
  },
  {
   "cell_type": "code",
   "execution_count": 17,
   "id": "5ad83d71",
   "metadata": {},
   "outputs": [
    {
     "data": {
      "text/plain": [
       "{'original_text': 'avalcnhe',\n",
       " 'spell_corrected_text': 'avalanche',\n",
       " 'correction_dict': {'avalcnhe': 'avalanche'}}"
      ]
     },
     "execution_count": 17,
     "metadata": {},
     "output_type": "execute_result"
    }
   ],
   "source": [
    "sp.spell_correct(\"avalcnhe\")"
   ]
  },
  {
   "cell_type": "code",
   "execution_count": 18,
   "id": "b113ac01",
   "metadata": {},
   "outputs": [
    {
     "data": {
      "text/plain": [
       "{'original_text': 'fotbal',\n",
       " 'spell_corrected_text': 'football',\n",
       " 'correction_dict': {'fotbal': 'football'}}"
      ]
     },
     "execution_count": 18,
     "metadata": {},
     "output_type": "execute_result"
    }
   ],
   "source": [
    "sp.spell_correct(\"fotbal\")"
   ]
  },
  {
   "cell_type": "code",
   "execution_count": null,
   "id": "f8e0e950",
   "metadata": {},
   "outputs": [],
   "source": []
  }
 ],
 "metadata": {
  "kernelspec": {
   "display_name": "Python 3 (ipykernel)",
   "language": "python",
   "name": "python3"
  },
  "language_info": {
   "codemirror_mode": {
    "name": "ipython",
    "version": 3
   },
   "file_extension": ".py",
   "mimetype": "text/x-python",
   "name": "python",
   "nbconvert_exporter": "python",
   "pygments_lexer": "ipython3",
   "version": "3.9.12"
  }
 },
 "nbformat": 4,
 "nbformat_minor": 5
}
